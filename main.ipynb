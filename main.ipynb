{
 "cells": [
  {
   "cell_type": "code",
   "execution_count": null,
   "metadata": {},
   "outputs": [],
   "source": [
    "# potrebne balicky pandas, asyncio, aiohttp"
   ]
  },
  {
   "cell_type": "code",
   "execution_count": null,
   "metadata": {},
   "outputs": [],
   "source": [
    "!pip install asyncio\n",
    "!pip install aiohttp\n",
    "!pip install nest_asyncio"
   ]
  },
  {
   "cell_type": "code",
   "execution_count": null,
   "metadata": {},
   "outputs": [],
   "source": [
    "# import nest asyncio je potrebny len pri použiti v Jupyter Notebooku\n",
    "import nest_asyncio\n",
    "nest_asyncio.apply()\n",
    "import registeruz.registeruz as r"
   ]
  },
  {
   "cell_type": "code",
   "execution_count": null,
   "metadata": {},
   "outputs": [],
   "source": [
    "# priklad použitia pre ziskanie dat o uctovnej jednotke v CSV, ziadna navratova hodnota\n",
    "r.uctovna_jednotka(336953)"
   ]
  },
  {
   "cell_type": "code",
   "execution_count": null,
   "metadata": {},
   "outputs": [],
   "source": [
    "# pri použiti csv_file False navratova hodnota je dictionary\n",
    "d = r.uctovna_jednotka(\"336944\", csv_file = False)"
   ]
  },
  {
   "cell_type": "code",
   "execution_count": null,
   "metadata": {},
   "outputs": [],
   "source": [
    "print(d)"
   ]
  },
  {
   "cell_type": "code",
   "execution_count": null,
   "metadata": {},
   "outputs": [],
   "source": [
    "# vrati zoznam ID, splnajuci podmienky\n",
    "d = r.uctovne_jednotky(zmenene_od=\"2022-01-01\", pokracovat_za_id=\"1956275\", \\\n",
    "                       pravna_forma=\"701\",csv_file=False)"
   ]
  },
  {
   "cell_type": "code",
   "execution_count": null,
   "metadata": {},
   "outputs": [],
   "source": [
    "print(d)"
   ]
  },
  {
   "cell_type": "code",
   "execution_count": null,
   "metadata": {},
   "outputs": [],
   "source": [
    "# bez navratovej hodnoty, vytvara CSV, prednastaveny nazov CSV je dataset\n",
    "r.uctovne_jednotky(zmenene_od=\"2022-01-01\", pokracovat_za_id=\"1956275\", \\\n",
    "                       pravna_forma=\"701\",csv_name='rok2022')"
   ]
  },
  {
   "cell_type": "code",
   "execution_count": null,
   "metadata": {},
   "outputs": [],
   "source": [
    "import pandas as pd"
   ]
  },
  {
   "cell_type": "code",
   "execution_count": null,
   "metadata": {},
   "outputs": [],
   "source": [
    "df = pd.read_csv(\"rok2022.csv\",sep= ';')"
   ]
  },
  {
   "cell_type": "code",
   "execution_count": null,
   "metadata": {},
   "outputs": [],
   "source": [
    "df.head()"
   ]
  },
  {
   "cell_type": "code",
   "execution_count": null,
   "metadata": {},
   "outputs": [],
   "source": [
    "# ciselniky, jediny parameter csv_file, prednastavene na True\n",
    "# pravne_formy, sk_nace, druhy_vlastnictva, velkosti_organizacie\n",
    "## pri navrate hodnot, hlavny kluc 'klasifikacie'\n",
    "data = r.pravne_formy(csv_file=False)\n",
    "data.keys()\n",
    "# kraje, okresy, sidla\n",
    "## pri navrate hodnot, hlavny kluc 'lokacie'\n",
    "# zdroje_dat\n",
    "## obsahuje pole"
   ]
  },
  {
   "cell_type": "code",
   "execution_count": null,
   "metadata": {},
   "outputs": [],
   "source": [
    "# priklad spracovania dat\n",
    "data = data['klasifikacie']\n",
    "data = sorted(data, key = lambda i: i['kod'])\n",
    "flat_data = [{'kod':d['kod'],'nazovSK':d['nazov']['sk'],'nazovEN':d['nazov']['en'] }for d in data]"
   ]
  },
  {
   "cell_type": "code",
   "execution_count": null,
   "metadata": {},
   "outputs": [],
   "source": [
    "flat_data"
   ]
  },
  {
   "cell_type": "code",
   "execution_count": null,
   "metadata": {},
   "outputs": [],
   "source": [
    "# nacitanie CSV\n",
    "r.kraje()\n",
    "df = pd.read_csv(\"kraje.csv\",sep= ';')"
   ]
  },
  {
   "cell_type": "code",
   "execution_count": null,
   "metadata": {},
   "outputs": [],
   "source": [
    "df.head()"
   ]
  },
  {
   "cell_type": "code",
   "execution_count": null,
   "metadata": {},
   "outputs": [],
   "source": [
    "r.zdroje_dat(False)"
   ]
  },
  {
   "cell_type": "code",
   "execution_count": null,
   "metadata": {},
   "outputs": [],
   "source": []
  }
 ],
 "metadata": {
  "kernelspec": {
   "display_name": "Python 3",
   "language": "python",
   "name": "python3"
  },
  "language_info": {
   "codemirror_mode": {
    "name": "ipython",
    "version": 3
   },
   "file_extension": ".py",
   "mimetype": "text/x-python",
   "name": "python",
   "nbconvert_exporter": "python",
   "pygments_lexer": "ipython3",
   "version": "3.7.6"
  }
 },
 "nbformat": 4,
 "nbformat_minor": 4
}
